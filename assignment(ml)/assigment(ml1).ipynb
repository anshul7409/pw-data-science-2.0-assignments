{
 "cells": [
  {
   "cell_type": "markdown",
   "metadata": {},
   "source": [
    "*ques 1*"
   ]
  },
  {
   "cell_type": "markdown",
   "metadata": {},
   "source": [
    "1). *Artificial intelligence* :  AI is a branch of computer science that deals with creation of intelligent machines that can perform task that require human intelligence. For example : chat gpt application..\n",
    "\n",
    "2). *Machine Learning* : Machine learning is the subset of artificial intelligence which provides statistical tools to analyize ,visualize, create predictive model and many other tasks.. For example  recommendation systems used in ecommerce site like amazon, use ml algorithms.\n",
    "\n",
    "3). *Deep Learning* : Deep learning is the subset of machine learning , which mimic human brain by using multilayered neural network. for example , image recognition, chatbot ,etc.."
   ]
  },
  {
   "cell_type": "markdown",
   "metadata": {},
   "source": [
    "*ques 2*"
   ]
  },
  {
   "cell_type": "markdown",
   "metadata": {},
   "source": [
    "supervised learning is the type of machine learning in which machines are trained using well labelled data and on the basis of that data machine predict the output.\n",
    "for example: student assement, in which on the basis of input parameters :  no of hours played and number of study hours , we have output wheather student will be passed or fail."
   ]
  },
  {
   "cell_type": "markdown",
   "metadata": {},
   "source": [
    "*ques 3*"
   ]
  },
  {
   "cell_type": "markdown",
   "metadata": {},
   "source": [
    "unsupervised learning is a type of machine learning which is used for grouping of unsorted information according to similarities and pattern.. for example : customer segmentation in ecommerce sites where we sort categories of shopping such as digital, groceries , etc according to profile and needs of the customer."
   ]
  },
  {
   "cell_type": "markdown",
   "metadata": {},
   "source": [
    "*ques 4*"
   ]
  },
  {
   "cell_type": "markdown",
   "metadata": {},
   "source": [
    "AI is concept of creating intelligent machines , ML is subset of AI which focused on learning of data,DL is subset of ML that used deep neural network for complex tasks and DS is a field of extracting insights and knowledge from data using various technique."
   ]
  },
  {
   "cell_type": "markdown",
   "metadata": {},
   "source": [
    "*ques 5*"
   ]
  },
  {
   "cell_type": "markdown",
   "metadata": {},
   "source": [
    "in supervised learning we train labelled dataset whose main aim is to train input feature for predicting correct output whearas in unsupervised learning we train unlabelled data whose main goal is to find patterns and relation between that data and group accordingly."
   ]
  },
  {
   "cell_type": "markdown",
   "metadata": {},
   "source": [
    "*ques 6*"
   ]
  },
  {
   "cell_type": "markdown",
   "metadata": {},
   "source": [
    "Three types of splits:\n",
    "\n",
    "1). **Training Split** : Training split in ml is process of splitting dataset into training dataset and this dataset is used to train ML model.\n",
    "\n",
    "2). **Validation Splits** : Validation split is used to fine-tune and optimize model parameters.It is important for evaluating performance of the ML model.\n",
    "\n",
    "3). **Test Splits** : Test split in ml is used to split the data set into separate subset which is used evaluate the ML model. Based on testing data we can evaluate wheather the model is biased or not.\n"
   ]
  },
  {
   "cell_type": "markdown",
   "metadata": {},
   "source": [
    "*ques 7*"
   ]
  },
  {
   "cell_type": "markdown",
   "metadata": {},
   "source": [
    "Unsupervised learning methods are used to discover patterns and structures within the dataset without requiring labels.So, this techniques can be applied to anomaly detection by identifying instances in dataset that deviate from normal or expected behaviour."
   ]
  },
  {
   "cell_type": "markdown",
   "metadata": {},
   "source": [
    "*ques 8*"
   ]
  },
  {
   "cell_type": "markdown",
   "metadata": {},
   "source": [
    "**Supervised Learning Algorithms**: Linear Regression,Decision Trees,Random Forest ,Support Vector Machines (SVM),K-Nearest Neighbors (KNN)\n",
    "\n",
    "**Unsupervised Learning Algorithms**:k-Means Clustering,Hierarchical Clustering,\n",
    "Principal Component Analysis (PCA),Gaussian Mixture Models (GMM),Autoencoders"
   ]
  },
  {
   "cell_type": "code",
   "execution_count": null,
   "metadata": {},
   "outputs": [],
   "source": []
  }
 ],
 "metadata": {
  "language_info": {
   "name": "python"
  },
  "orig_nbformat": 4
 },
 "nbformat": 4,
 "nbformat_minor": 2
}
