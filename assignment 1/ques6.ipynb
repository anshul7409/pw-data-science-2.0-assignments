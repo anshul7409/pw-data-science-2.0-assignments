{
 "cells": [
  {
   "cell_type": "code",
   "execution_count": 1,
   "metadata": {},
   "outputs": [
    {
     "name": "stdout",
     "output_type": "stream",
     "text": [
      "not divisible\n",
      "not divisible\n",
      "divisible by 3!\n",
      "not divisible\n",
      "not divisible\n",
      "not divisible\n",
      "divisible by 3!\n",
      "not divisible\n",
      "not divisible\n",
      "divisible by 3!\n",
      "not divisible\n",
      "not divisible\n",
      "divisible by 3!\n",
      "divisible by 3!\n",
      "divisible by 3!\n",
      "not divisible\n",
      "divisible by 3!\n",
      "not divisible\n",
      "divisible by 3!\n",
      "not divisible\n",
      "not divisible\n",
      "not divisible\n",
      "not divisible\n",
      "divisible by 3!\n",
      "not divisible\n"
     ]
    }
   ],
   "source": [
    "l = [1,2,3,4,10,2,30,40,50,90,20,5,6,60,15,40,21,11,12,13,14,22,23,24,25]\n",
    "for i in l:\n",
    "    if(i%3 == 0):\n",
    "        print(\"divisible by 3!\")\n",
    "    else:\n",
    "        print(\"not divisible\")"
   ]
  }
 ],
 "metadata": {
  "kernelspec": {
   "display_name": "Python 3",
   "language": "python",
   "name": "python3"
  },
  "language_info": {
   "codemirror_mode": {
    "name": "ipython",
    "version": 3
   },
   "file_extension": ".py",
   "mimetype": "text/x-python",
   "name": "python",
   "nbconvert_exporter": "python",
   "pygments_lexer": "ipython3",
   "version": "3.10.11"
  },
  "orig_nbformat": 4
 },
 "nbformat": 4,
 "nbformat_minor": 2
}
