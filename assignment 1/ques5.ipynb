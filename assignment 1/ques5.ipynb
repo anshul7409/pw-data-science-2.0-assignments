{
 "cells": [
  {
   "cell_type": "code",
   "execution_count": 2,
   "metadata": {},
   "outputs": [
    {
     "name": "stdout",
     "output_type": "stream",
     "text": [
      "no of time a is divisible by b 3\n"
     ]
    }
   ],
   "source": [
    "a = 40\n",
    "b = 2\n",
    "count = 0\n",
    "while(a>0):\n",
    "  if(a%b) == 0 :\n",
    "     count = count+1\n",
    "  a = a/b\n",
    "\n",
    "print(\"no of time a is divisible by b\",count)"
   ]
  }
 ],
 "metadata": {
  "kernelspec": {
   "display_name": "Python 3",
   "language": "python",
   "name": "python3"
  },
  "language_info": {
   "codemirror_mode": {
    "name": "ipython",
    "version": 3
   },
   "file_extension": ".py",
   "mimetype": "text/x-python",
   "name": "python",
   "nbconvert_exporter": "python",
   "pygments_lexer": "ipython3",
   "version": "3.10.11"
  },
  "orig_nbformat": 4
 },
 "nbformat": 4,
 "nbformat_minor": 2
}
