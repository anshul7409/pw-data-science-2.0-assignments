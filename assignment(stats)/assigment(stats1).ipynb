{
 "cells": [
  {
   "cell_type": "markdown",
   "metadata": {},
   "source": [
    "*ques 1*"
   ]
  },
  {
   "cell_type": "markdown",
   "metadata": {},
   "source": [
    "statistics is the science of collecting,organizing and analyzing data."
   ]
  },
  {
   "cell_type": "markdown",
   "metadata": {},
   "source": [
    "*ques 2*"
   ]
  },
  {
   "cell_type": "markdown",
   "metadata": {},
   "source": [
    "Diffrent types of statistics:\n",
    "\n",
    "i).*Discriptive statistics*: It is a type of statisics which consists of organizing and summerizing the data. Let us say we have 20 statistics classes in a college,and we have given student heights. here descriptive stats question may be find mean, median of the student\n",
    "\n",
    "ii).*Infrential statistics*: It consists of using data we have measured to form the conclusion.. For example. similar to the above example.. we can say here infrential question will be: \"Are the height of student in classroom are similar to what we expect in college?\""
   ]
  },
  {
   "cell_type": "markdown",
   "metadata": {},
   "source": [
    "*ques 3*"
   ]
  },
  {
   "cell_type": "markdown",
   "metadata": {},
   "source": [
    "diffrent types of data : \n",
    "\n",
    "-> *population data* : population data is the group of data we are interested in studying. For example : population of india.\n",
    "\n",
    "-> *sample data* : sample data is the subset of population data, which is used for making infrences about the data. For example : exit polls ,where we take sample data for making conclusion about voting"
   ]
  },
  {
   "cell_type": "markdown",
   "metadata": {},
   "source": [
    "*ques 4*"
   ]
  },
  {
   "cell_type": "markdown",
   "metadata": {},
   "source": [
    "i). qualitative data\n",
    "ii). qualitative data\n",
    "iii). quantitative data\n",
    "iv). quantitative data"
   ]
  },
  {
   "cell_type": "markdown",
   "metadata": {},
   "source": [
    "*ques 5*"
   ]
  },
  {
   "cell_type": "markdown",
   "metadata": {},
   "source": [
    "level of measurements are diffrent scales of measurement which tell how precisely variables are recorded.\n",
    "there are four types of measurement:\n",
    "\n",
    "i). *Nominal scale data* : data can be categorize. For example : gender, color ,etc.\n",
    "\n",
    "ii). *Ordinal scale data* : data can be categorized and ranked. For example : grade in assesments, category like : good,better and best,etc..\n",
    "\n",
    "iii). *Interval scale data* : data can be categorize, ranked as well as diffrence can be measured. For example levels of temperature: [30,60,90,120]\n",
    "\n",
    "iv). *Ratio scale data* : data can be categorized,ranked as well as ratio can be measured with another data. For example: student marks in class : \n",
    "[90,60,30,75] . ratio can be measure between stu1 and stu3 i.e. stu1 = 3*stu2 ."
   ]
  },
  {
   "cell_type": "markdown",
   "metadata": {},
   "source": [
    "*ques 6*"
   ]
  },
  {
   "cell_type": "markdown",
   "metadata": {},
   "source": [
    "Understanding the level of measurement is important when analyzing data because it determines the type of statistical and mathematical operations that can be applied to the data.\n",
    "\n",
    "For example : \n",
    "Gender is a nominal variable because it comes into distinct categories (male, female) without any  order. You can calculate the percentage of male and female students, but you can't say that one gender is greater than the other in a meaningful way."
   ]
  },
  {
   "cell_type": "markdown",
   "metadata": {},
   "source": []
  },
  {
   "cell_type": "code",
   "execution_count": null,
   "metadata": {},
   "outputs": [],
   "source": []
  }
 ],
 "metadata": {
  "language_info": {
   "name": "python"
  },
  "orig_nbformat": 4
 },
 "nbformat": 4,
 "nbformat_minor": 2
}
