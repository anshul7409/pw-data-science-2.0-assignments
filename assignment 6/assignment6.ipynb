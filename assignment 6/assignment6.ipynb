{
 "cells": [
  {
   "attachments": {},
   "cell_type": "markdown",
   "metadata": {},
   "source": [
    "*ques 1*"
   ]
  },
  {
   "attachments": {},
   "cell_type": "markdown",
   "metadata": {},
   "source": [
    "- classes are the blueprint or prototype for building objects.classes contains diffrent methods and attributes for an object. \n",
    "- object is an instance of a class.it shows real world entity. object consists of state,behaviour and identity\n",
    "\n",
    "For eg. let animal be the class for animals. It will consists for basic characteritics such as : animal can eat,run,sleep. Now let dog be the instance of animal class. dog is a animal and it adopts all characteristics of an animal."
   ]
  },
  {
   "attachments": {},
   "cell_type": "markdown",
   "metadata": {},
   "source": [
    "*ques 2*"
   ]
  },
  {
   "attachments": {},
   "cell_type": "markdown",
   "metadata": {},
   "source": [
    "Four pillars of oops : Encapsulation,abstraction,Inheritence,Polymorphism"
   ]
  },
  {
   "attachments": {},
   "cell_type": "markdown",
   "metadata": {},
   "source": [
    "*ques 3*"
   ]
  },
  {
   "attachments": {},
   "cell_type": "markdown",
   "metadata": {},
   "source": [
    "__init__ in python acts as constructor which is invoked when object is created. It is used for passing data through object and using that data in class.\n",
    "For ex : "
   ]
  },
  {
   "cell_type": "code",
   "execution_count": 1,
   "metadata": {},
   "outputs": [],
   "source": [
    "class user:\n",
    "    def __init__(self,username,password,age):\n",
    "        self.username = username\n",
    "        self.password = password\n",
    "        self.age = age"
   ]
  },
  {
   "cell_type": "code",
   "execution_count": 2,
   "metadata": {},
   "outputs": [
    {
     "data": {
      "text/plain": [
       "'anshul'"
      ]
     },
     "execution_count": 2,
     "metadata": {},
     "output_type": "execute_result"
    }
   ],
   "source": [
    "newuser = user(\"anshul\",\"hello\",20)\n",
    "newuser.username"
   ]
  },
  {
   "attachments": {},
   "cell_type": "markdown",
   "metadata": {},
   "source": [
    "*ques 4*"
   ]
  },
  {
   "attachments": {},
   "cell_type": "markdown",
   "metadata": {},
   "source": [
    "self represents the instance of the class.By using self we can access attributes and method of the class."
   ]
  },
  {
   "attachments": {},
   "cell_type": "markdown",
   "metadata": {},
   "source": [
    "*ques 5*"
   ]
  },
  {
   "attachments": {},
   "cell_type": "markdown",
   "metadata": {},
   "source": [
    "Inheritence in oops used to define a class that inherits all method and properties of parent class.\n",
    "\n",
    "Types of Inheritence:\n",
    "\n",
    "i).Single inheritence : a class can inherit from only one class. For eg : vehicle is a class and car can inherit all properties from vehicle\n",
    "ii).Multiple inheritence: A class can inherit from more than one class. For eg : let us consider two classes Vehicle and class fourwheeler. A car can inherit properties from both the classes.\n",
    "iii).Multilevel inheritence: In Multilevel inheritence, a derived class is created from another derived class.\n",
    "A\n",
    "^\n",
    "|\n",
    "B\n",
    "^\n",
    "|\n",
    "C"
   ]
  }
 ],
 "metadata": {
  "kernelspec": {
   "display_name": "Python 3",
   "language": "python",
   "name": "python3"
  },
  "language_info": {
   "codemirror_mode": {
    "name": "ipython",
    "version": 3
   },
   "file_extension": ".py",
   "mimetype": "text/x-python",
   "name": "python",
   "nbconvert_exporter": "python",
   "pygments_lexer": "ipython3",
   "version": "3.10.11"
  },
  "orig_nbformat": 4
 },
 "nbformat": 4,
 "nbformat_minor": 2
}
