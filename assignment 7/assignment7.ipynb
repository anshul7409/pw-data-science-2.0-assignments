{
 "cells": [
  {
   "attachments": {},
   "cell_type": "markdown",
   "metadata": {},
   "source": [
    "*ques 1*"
   ]
  },
  {
   "attachments": {},
   "cell_type": "markdown",
   "metadata": {},
   "source": [
    "Abstraction in oops is all about hiding the internel implementation details of a function and showing only essential details.\n",
    "For eg, car have abtraction in our car, where we have function to start the car by key automatically. But we dont know about the internel implementation how it is starting."
   ]
  },
  {
   "attachments": {},
   "cell_type": "markdown",
   "metadata": {},
   "source": [
    "*ques 2*"
   ]
  },
  {
   "attachments": {},
   "cell_type": "markdown",
   "metadata": {},
   "source": [
    "- Abstraction is the process of hiding complex implementation details and exposing only essential features of an object.It focuses on externel behaviour and functionality of an object. For example , in online payments systems like UPI, user is abstracted to use the feature of sending and recieving money. But they do not know how the trasaction is happening internelly like parallel processing .\n",
    "\n",
    "- Encapsulation is the process of hiding internel details of an object and exposing only necessary information to outside world.it Foucuses on protecting the internel state and behaviour of an object. For example. In Upi trasaction can login to user section of the system. But he/she dont have access to database or backend of the system.\n",
    "\n",
    "\n"
   ]
  },
  {
   "attachments": {},
   "cell_type": "markdown",
   "metadata": {},
   "source": [
    "*ques 3*"
   ]
  },
  {
   "attachments": {},
   "cell_type": "markdown",
   "metadata": {},
   "source": [
    "abc module is abstract base class module in python.It is used for creating abstract classes in python."
   ]
  },
  {
   "attachments": {},
   "cell_type": "markdown",
   "metadata": {},
   "source": [
    "*ques 4*"
   ]
  },
  {
   "attachments": {},
   "cell_type": "markdown",
   "metadata": {},
   "source": [
    "We can achieve data abstraction using abstract base class in python in abc module.\n",
    "for ex:"
   ]
  },
  {
   "cell_type": "code",
   "execution_count": 1,
   "metadata": {},
   "outputs": [],
   "source": [
    "import abc\n",
    "class class1:\n",
    "    @abc.abstractmethod\n",
    "    def details():\n",
    "       pass\n",
    "\n",
    "class class2(class1):\n",
    "    def details():\n",
    "        print(\"Anshul rawat  roll : 10\")"
   ]
  },
  {
   "attachments": {},
   "cell_type": "markdown",
   "metadata": {},
   "source": [
    "*ques5*"
   ]
  },
  {
   "attachments": {},
   "cell_type": "markdown",
   "metadata": {},
   "source": [
    "we cannot create instance of abstract class directly. we can use abstract class in other derived class and create instance of those derived class. \n",
    "for ex:"
   ]
  },
  {
   "cell_type": "code",
   "execution_count": 3,
   "metadata": {},
   "outputs": [
    {
     "name": "stdout",
     "output_type": "stream",
     "text": [
      "Anshul rawat  roll : 10\n"
     ]
    }
   ],
   "source": [
    "import abc\n",
    "class class1:\n",
    "    @abc.abstractmethod\n",
    "    def details(self):\n",
    "       pass\n",
    "\n",
    "class class2(class1):\n",
    "    def details(self):\n",
    "        print(\"Anshul rawat  roll : 10\")\n",
    "\n",
    "class2_obj = class2()\n",
    "class2_obj.details()"
   ]
  }
 ],
 "metadata": {
  "kernelspec": {
   "display_name": "Python 3",
   "language": "python",
   "name": "python3"
  },
  "language_info": {
   "codemirror_mode": {
    "name": "ipython",
    "version": 3
   },
   "file_extension": ".py",
   "mimetype": "text/x-python",
   "name": "python",
   "nbconvert_exporter": "python",
   "pygments_lexer": "ipython3",
   "version": "3.10.11"
  },
  "orig_nbformat": 4
 },
 "nbformat": 4,
 "nbformat_minor": 2
}
